{
 "cells": [
  {
   "cell_type": "code",
   "execution_count": 2,
   "id": "85999174-7bf1-4373-8df3-7b5cf8dc934b",
   "metadata": {},
   "outputs": [
    {
     "name": "stdin",
     "output_type": "stream",
     "text": [
      "Enter the number of disks:  3\n"
     ]
    },
    {
     "name": "stdout",
     "output_type": "stream",
     "text": [
      "\n",
      "Steps to solve Tower of Hanoi:\n",
      "Move disc 1 from pole A to pole C\n",
      "Move disc 2 from pole A to pole B\n",
      "Move disc 1 from pole C to pole B\n",
      "Move disc 3 from pole A to pole C\n",
      "Move disc 1 from pole B to pole A\n",
      "Move disc 2 from pole B to pole C\n",
      "Move disc 1 from pole A to pole C\n"
     ]
    }
   ],
   "source": [
    "def TowerOfHanoi(n, s_pole, d_pole, i_pole):\n",
    "    \n",
    "    if n == 1:\n",
    "        print(\"Move disc 1 from pole\", s_pole, \"to pole\", d_pole)\n",
    "        return\n",
    "    TowerOfHanoi(n - 1, s_pole, i_pole, d_pole)\n",
    "    print(\"Move disc\", n, \"from pole\", s_pole, \"to pole\", d_pole)\n",
    "    TowerOfHanoi(n - 1, i_pole, d_pole, s_pole)\n",
    "\n",
    "# Enter the number of disks\n",
    "n = int(input(\"Enter the number of disks: \"))\n",
    "\n",
    "# Call the Tower of Hanoi function with user input\n",
    "print(\"\\nSteps to solve Tower of Hanoi:\")\n",
    "TowerOfHanoi(n, 'A', 'C', 'B')\n"
   ]
  },
  {
   "cell_type": "code",
   "execution_count": null,
   "id": "b09e60bf-f460-43c1-bd9d-b1f9b8f04865",
   "metadata": {},
   "outputs": [],
   "source": []
  }
 ],
 "metadata": {
  "kernelspec": {
   "display_name": "Python 3 (ipykernel)",
   "language": "python",
   "name": "python3"
  },
  "language_info": {
   "codemirror_mode": {
    "name": "ipython",
    "version": 3
   },
   "file_extension": ".py",
   "mimetype": "text/x-python",
   "name": "python",
   "nbconvert_exporter": "python",
   "pygments_lexer": "ipython3",
   "version": "3.12.4"
  }
 },
 "nbformat": 4,
 "nbformat_minor": 5
}
